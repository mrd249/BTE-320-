{
  "nbformat": 4,
  "nbformat_minor": 0,
  "metadata": {
    "colab": {
      "provenance": [],
      "authorship_tag": "ABX9TyMObUo2phkEDtvBOinJd4Fi",
      "include_colab_link": true
    },
    "kernelspec": {
      "name": "python3",
      "display_name": "Python 3"
    },
    "language_info": {
      "name": "python"
    }
  },
  "cells": [
    {
      "cell_type": "markdown",
      "metadata": {
        "id": "view-in-github",
        "colab_type": "text"
      },
      "source": [
        "<a href=\"https://colab.research.google.com/github/mrd249/BTE-320-/blob/main/In_Class_Assignment_Notebook_Michael_Dean_.ipynb\" target=\"_parent\"><img src=\"https://colab.research.google.com/assets/colab-badge.svg\" alt=\"Open In Colab\"/></a>"
      ]
    },
    {
      "cell_type": "code",
      "source": [
        "pi = 3.14\n",
        "radius = float(input('Enter radius:'))\n",
        "height = float(input('Enter height:'))\n",
        "\n",
        "area = (2 * pi * (radius ** 2)) + (2 * pi * radius * height)\n",
        "\n",
        "print(f'Area of cylinder: {area} sq. ft')"
      ],
      "metadata": {
        "colab": {
          "base_uri": "https://localhost:8080/"
        },
        "id": "o0InlSgf6Guk",
        "outputId": "e6a6e647-4bc2-4d3e-a38c-0666d58189a9"
      },
      "execution_count": null,
      "outputs": [
        {
          "output_type": "stream",
          "name": "stdout",
          "text": [
            "Enter radius:5\n",
            "Enter height:7\n",
            "Area of cylinder: 376.8 sq. ft\n"
          ]
        }
      ]
    },
    {
      "cell_type": "code",
      "source": [
        "n1 = float(input('Enter number 1:'))\n",
        "n2 = float(input('Enter number 2:'))\n",
        "op = input('Enter operator:')\n",
        "\n",
        "if op == '+':\n",
        "    res = n1 + n2\n",
        "elif op == '-':\n",
        "    res = n1 - n2\n",
        "elif op == '*':\n",
        "    res = n1 * n2\n",
        "elif op == '/':\n",
        "    res = n1 / n2\n",
        "elif op == '//':\n",
        "  res = n1 // n2\n",
        "elif op == '**':\n",
        "  res = n1 ** n2\n",
        "elif op == '%':\n",
        "  res = n1 % n2\n",
        "else:\n",
        "    print('Invalid operator')\n",
        "\n",
        "print(f'{n1} {op} {n2} = {res}')"
      ],
      "metadata": {
        "colab": {
          "base_uri": "https://localhost:8080/"
        },
        "id": "-hxROh9Q9s9Q",
        "outputId": "c8e126ab-7bc4-4d9b-c111-8a9ae36b54cd"
      },
      "execution_count": null,
      "outputs": [
        {
          "output_type": "stream",
          "name": "stdout",
          "text": [
            "Enter number 1:6\n",
            "Enter number 2:8\n",
            "Enter operator://\n",
            "6.0 // 8.0 = 0.0\n"
          ]
        }
      ]
    },
    {
      "cell_type": "code",
      "source": [
        "for numberHours in range(1, 9):\n",
        "    fee = 5 + 2.5 * numberHours\n",
        "    if fee < 10:\n",
        "        fee = 10.0\n",
        "    elif fee > 20:\n",
        "        fee = 20.0\n",
        "    print(numberHours, fee)"
      ],
      "metadata": {
        "colab": {
          "base_uri": "https://localhost:8080/"
        },
        "id": "S0Yj6DFRrC0y",
        "outputId": "c79de41b-982e-4632-ef19-c5dc43bb753e"
      },
      "execution_count": null,
      "outputs": [
        {
          "output_type": "stream",
          "name": "stdout",
          "text": [
            "1 10.0\n",
            "2 10.0\n",
            "3 12.5\n",
            "4 15.0\n",
            "5 17.5\n",
            "6 20.0\n",
            "7 20.0\n",
            "8 20.0\n"
          ]
        }
      ]
    },
    {
      "cell_type": "code",
      "source": [
        "import math\n",
        "print('Ad $\\tProfit')\n",
        "for adMoney in range(0, 201, 25):\n",
        "  revenue = (20 + 2 * round(math.sqrt(adMoney))) * 10 # instead of adMoney ** 0.5\n",
        "  costs = 200 + adMoney\n",
        "  profit = revenue - costs\n",
        "  print(adMoney, '\\t', profit)"
      ],
      "metadata": {
        "colab": {
          "base_uri": "https://localhost:8080/"
        },
        "id": "Y2ivJVIgr6mR",
        "outputId": "3842b4d3-9e7c-4b62-f9a3-bd7924a1f3d5"
      },
      "execution_count": null,
      "outputs": [
        {
          "output_type": "stream",
          "name": "stdout",
          "text": [
            "Ad $\tProfit\n",
            "0 \t 0\n",
            "25 \t 75\n",
            "50 \t 90\n",
            "75 \t 105\n",
            "100 \t 100\n",
            "125 \t 95\n",
            "150 \t 90\n",
            "175 \t 85\n",
            "200 \t 80\n"
          ]
        }
      ]
    },
    {
      "cell_type": "code",
      "source": [
        "num = 9\n",
        "\n",
        "while num > 0:\n",
        "  num = num -1\n",
        "  if num ==5:\n",
        "    continue\n",
        "  print(num)\n",
        "print('End.')"
      ],
      "metadata": {
        "colab": {
          "base_uri": "https://localhost:8080/"
        },
        "id": "8U2NIBKEB19Y",
        "outputId": "0ed69f2c-463a-4055-86d0-b8e58aedf4d1"
      },
      "execution_count": null,
      "outputs": [
        {
          "output_type": "stream",
          "name": "stdout",
          "text": [
            "8\n",
            "7\n",
            "6\n",
            "4\n",
            "3\n",
            "2\n",
            "1\n",
            "0\n",
            "End.\n"
          ]
        }
      ]
    },
    {
      "cell_type": "markdown",
      "source": [
        "Rock Paper Scissors In Class Assignment"
      ],
      "metadata": {
        "id": "KRz-JjLCWN5m"
      }
    },
    {
      "cell_type": "code",
      "source": [
        "\n",
        "i = input('do you want to play yes or no:')\n",
        "while i == 'yes':\n",
        "  p1= input('player 1 :: (r->rock, p->paper, or s->scissor)')\n",
        "  p2= input('player 2 :: (r->rock, p->paper, or s->scissor)')\n",
        "\n",
        "  if p1==p2:\n",
        "    print('draw')\n",
        "\n",
        "  elif p1=='r' and p2=='s':\n",
        "    print('p1 wins')\n",
        "\n",
        "  elif p1=='s' and p2 =='p':\n",
        "    print('p1 wins')\n",
        "\n",
        "  elif p1=='p' and p2 =='r':\n",
        "    print('p1 wins')\n",
        "\n",
        "  else:\n",
        "    print('p2 wins')\n",
        "\n",
        "  i = input('do you want to play yes or no:')"
      ],
      "metadata": {
        "colab": {
          "base_uri": "https://localhost:8080/"
        },
        "id": "Of9Awgv2eUYB",
        "outputId": "44aedb92-9f56-42ea-9715-04bce537d18b"
      },
      "execution_count": null,
      "outputs": [
        {
          "name": "stdout",
          "output_type": "stream",
          "text": [
            "do you want to play yes or no:yes\n",
            "player 1 :: (r->rock, p->paper, or s->scissor)rock\n",
            "player 2 :: (r->rock, p->paper, or s->scissor)paper\n",
            "p2 wins\n",
            "do you want to play yes or no:no\n"
          ]
        }
      ]
    },
    {
      "cell_type": "code",
      "source": [
        "list = []\n",
        "\n",
        "num = float(input('Give a number:'))\n",
        "\n",
        "while num != 0.0:\n",
        "  list.append(num)\n",
        "  num = float(input('Give a number:'))\n",
        "list.sort(reverse=True)\n",
        "list"
      ],
      "metadata": {
        "colab": {
          "base_uri": "https://localhost:8080/"
        },
        "id": "POlNFhDDfCiV",
        "outputId": "249b5a59-95de-4408-87e3-57647adf6a48"
      },
      "execution_count": null,
      "outputs": [
        {
          "name": "stdout",
          "output_type": "stream",
          "text": [
            "Give a number:5\n",
            "Give a number:4\n",
            "Give a number:9\n",
            "Give a number:2\n",
            "Give a number:6\n",
            "Give a number:0\n"
          ]
        },
        {
          "output_type": "execute_result",
          "data": {
            "text/plain": [
              "[9.0, 6.0, 5.0, 4.0, 2.0]"
            ]
          },
          "metadata": {},
          "execution_count": 5
        }
      ]
    },
    {
      "cell_type": "code",
      "source": [
        "months = {\n",
        "    'Jan': 1,\n",
        "    'Feb': 2,\n",
        "    'Mar': 3,\n",
        "    'April': 4,\n",
        "    'May': 5,\n",
        "    'June': 6,\n",
        "    'July': 7,\n",
        "    'Aug': 8,\n",
        "    'Sept': 9,\n",
        "    'Oct': 10,\n",
        "    'Nov': 11,\n",
        "    'Dec': 12\n",
        "}"
      ],
      "metadata": {
        "id": "IGXm9SOWASC_"
      },
      "execution_count": null,
      "outputs": []
    },
    {
      "cell_type": "code",
      "source": [
        "months = {}\n",
        "\n",
        "names = [\"Jan\", \"Feb\", \"Mar\", \"Apr\", \"May\", \"June\", \"July\", \"Aug\", \"Sept\", \"Oct\", \"Nov\", \"Dec\"]\n",
        "numbers = [1, 2, 3, 4, 5, 6, 7, 8, 9, 10, 11, 12]\n",
        "\n",
        "cntr = 0\n",
        "for num in numbers:\n",
        "  months[num] = names[cntr]\n",
        "  cntr += 1\n",
        "months"
      ],
      "metadata": {
        "colab": {
          "base_uri": "https://localhost:8080/"
        },
        "id": "lKPyUg8KERv7",
        "outputId": "e8ad80d5-19ef-4439-bdce-07add3981d5d"
      },
      "execution_count": null,
      "outputs": [
        {
          "output_type": "execute_result",
          "data": {
            "text/plain": [
              "{1: 'Jan',\n",
              " 2: 'Feb',\n",
              " 3: 'Mar',\n",
              " 4: 'Apr',\n",
              " 5: 'May',\n",
              " 6: 'June',\n",
              " 7: 'July',\n",
              " 8: 'Aug',\n",
              " 9: 'Sept',\n",
              " 10: 'Oct',\n",
              " 11: 'Nov',\n",
              " 12: 'Dec'}"
            ]
          },
          "metadata": {},
          "execution_count": 34
        }
      ]
    },
    {
      "cell_type": "code",
      "source": [
        "counts = {}\n",
        "\n",
        "while len(counts) < 5:\n",
        "  key = input(\"Give a string:\")\n",
        "\n",
        "  if key not in counts:\n",
        "    counts[key] = 1\n",
        "  else:\n",
        "    counts[key] = counts[key] + 1\n",
        "  counts"
      ],
      "metadata": {
        "colab": {
          "base_uri": "https://localhost:8080/"
        },
        "id": "ROhOogxGHa0c",
        "outputId": "289664a9-f2d8-4e1a-8586-1c67639777a7"
      },
      "execution_count": null,
      "outputs": [
        {
          "name": "stdout",
          "output_type": "stream",
          "text": [
            "Give a string:a \n",
            "Give a string:a \n",
            "Give a string:b \n",
            "Give a string:b\n",
            "Give a string:c\n",
            "Give a string:c\n",
            "Give a string:c\n",
            "Give a string:c\n",
            "Give a string:c\n",
            "Give a string:c\n",
            "Give a string:c\n",
            "Give a string:c\n",
            "Give a string:c\n",
            "Give a string:c\n",
            "Give a string:c\n",
            "Give a string:c\n",
            "Give a string:c\n",
            "Give a string:c\n",
            "Give a string:c\n",
            "Give a string:c\n",
            "Give a string:c\n",
            "Give a string:c\n",
            "Give a string:d\n"
          ]
        }
      ]
    },
    {
      "cell_type": "markdown",
      "source": [
        "Second Parking Garage Problem"
      ],
      "metadata": {
        "id": "faDwwuxU2Iqv"
      }
    },
    {
      "cell_type": "code",
      "source": [
        "def calcFee(hours):\n",
        "  fee = 5 + 2.5 * hours\n",
        "  if fee < 10:\n",
        "    fee = 10.0\n",
        "  elif fee > 20:\n",
        "    fee = 20.0\n",
        "  print(f'Fee: ${fee}')\n",
        "\n",
        "def main():\n",
        "  numHours = int(input('Enter number of hours: '))\n",
        "  calcFee(numHours)\n",
        "\n",
        "if __name__ == '__main__':\n",
        "  main()"
      ],
      "metadata": {
        "colab": {
          "base_uri": "https://localhost:8080/"
        },
        "id": "JrEgOWnL3Aj1",
        "outputId": "f40fcb86-1017-46c3-eec2-b375b53552c5"
      },
      "execution_count": 3,
      "outputs": [
        {
          "output_type": "stream",
          "name": "stdout",
          "text": [
            "Enter number of hours: 7\n",
            "Fee: $20.0\n"
          ]
        }
      ]
    },
    {
      "cell_type": "markdown",
      "source": [
        "Recursive Function"
      ],
      "metadata": {
        "id": "Sw0zSrYOHemQ"
      }
    },
    {
      "cell_type": "code",
      "source": [
        "def reverse(s):\n",
        "  if len(s) <= 1:\n",
        "    return s\n",
        "  else:\n",
        "    return s[-1] + reverse(s[1:-1]) + s[0]\n",
        "reverse('Hello')"
      ],
      "metadata": {
        "colab": {
          "base_uri": "https://localhost:8080/",
          "height": 35
        },
        "id": "IZvAbgjFHgG3",
        "outputId": "abd67114-0524-4c63-fc09-c9327f31c4d0"
      },
      "execution_count": null,
      "outputs": [
        {
          "output_type": "execute_result",
          "data": {
            "text/plain": [
              "'olleH'"
            ],
            "application/vnd.google.colaboratory.intrinsic+json": {
              "type": "string"
            }
          },
          "metadata": {},
          "execution_count": 4
        }
      ]
    },
    {
      "cell_type": "code",
      "source": [
        "def linear_search(arr, target):\n",
        "  for item in arr:\n",
        "    if item == target:\n",
        "      return item\n",
        "\n",
        "  return -1\n",
        "linear_search([1,4,2,6],8)"
      ],
      "metadata": {
        "colab": {
          "base_uri": "https://localhost:8080/"
        },
        "id": "p5kO_zcXftyV",
        "outputId": "dc934825-d00b-4392-c381-d62517cae04c"
      },
      "execution_count": null,
      "outputs": [
        {
          "output_type": "execute_result",
          "data": {
            "text/plain": [
              "-1"
            ]
          },
          "metadata": {},
          "execution_count": 13
        }
      ]
    }
  ]
}